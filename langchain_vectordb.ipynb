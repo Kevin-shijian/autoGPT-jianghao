{
  "nbformat": 4,
  "nbformat_minor": 0,
  "metadata": {
    "colab": {
      "provenance": [],
      "authorship_tag": "ABX9TyMbAMIcyyG0b3JbqcIYRs2m",
      "include_colab_link": true
    },
    "kernelspec": {
      "name": "python3",
      "display_name": "Python 3"
    },
    "language_info": {
      "name": "python"
    }
  },
  "cells": [
    {
      "cell_type": "markdown",
      "metadata": {
        "id": "view-in-github",
        "colab_type": "text"
      },
      "source": [
        "<a href=\"https://colab.research.google.com/github/acl-jianghao/Langchain-Scripts/blob/main/langchain_vectordb.ipynb\" target=\"_parent\"><img src=\"https://colab.research.google.com/assets/colab-badge.svg\" alt=\"Open In Colab\"/></a>"
      ]
    },
    {
      "cell_type": "code",
      "execution_count": null,
      "metadata": {
        "id": "YvVC9eGE3H3-"
      },
      "outputs": [],
      "source": [
        "%pip install openai\n",
        "%pip install langchain\n",
        "%pip install tiktoken\n",
        "%pip install colab-env -qU"
      ]
    }
  ]
}