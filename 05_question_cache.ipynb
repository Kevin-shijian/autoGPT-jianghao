{
  "nbformat": 4,
  "nbformat_minor": 0,
  "metadata": {
    "colab": {
      "provenance": [],
      "authorship_tag": "ABX9TyNqqwVp6kp5YRmBSGWeLKFl",
      "include_colab_link": true
    },
    "kernelspec": {
      "name": "python3",
      "display_name": "Python 3"
    },
    "language_info": {
      "name": "python"
    }
  },
  "cells": [
    {
      "cell_type": "markdown",
      "metadata": {
        "id": "view-in-github",
        "colab_type": "text"
      },
      "source": [
        "<a href=\"https://colab.research.google.com/github/acl-jianghao/Langchain-demos/blob/main/05_question_cache.ipynb\" target=\"_parent\"><img src=\"https://colab.research.google.com/assets/colab-badge.svg\" alt=\"Open In Colab\"/></a>"
      ]
    },
    {
      "cell_type": "markdown",
      "source": [
        "The text and semantic cache\n",
        "- in memory\n",
        "- redis\n",
        "- redis semantic\n",
        "- GPT cache"
      ],
      "metadata": {
        "id": "377LRMbJw-Qn"
      }
    },
    {
      "cell_type": "code",
      "execution_count": 20,
      "metadata": {
        "id": "bKxTXi_RwzWP",
        "colab": {
          "base_uri": "https://localhost:8080/"
        },
        "outputId": "21d3d1e0-bd6d-403c-a6e9-d4433496fea4"
      },
      "outputs": [
        {
          "output_type": "stream",
          "name": "stdout",
          "text": [
            "\u001b[2K     \u001b[90m━━━━━━━━━━━━━━━━━━━━━━━━━━━━━━━━━━━━━━━━\u001b[0m \u001b[32m17.6/17.6 MB\u001b[0m \u001b[31m45.1 MB/s\u001b[0m eta \u001b[36m0:00:00\u001b[0m\n",
            "\u001b[?25h"
          ]
        }
      ],
      "source": [
        "!pip install -Uqq openai langchain tiktoken colab-env pymupdf faiss-cpu"
      ]
    },
    {
      "cell_type": "code",
      "source": [
        "import os\n",
        "import colab_env"
      ],
      "metadata": {
        "colab": {
          "base_uri": "https://localhost:8080/"
        },
        "id": "xmNKw2Zh0urR",
        "outputId": "a1f87d5b-51ee-4a2a-dae2-bacb26152ba8"
      },
      "execution_count": 3,
      "outputs": [
        {
          "output_type": "stream",
          "name": "stdout",
          "text": [
            "Mounted at /content/gdrive\n"
          ]
        }
      ]
    },
    {
      "cell_type": "code",
      "source": [
        "!wget https://manuals.info.apple.com/MANUALS/2000/MA2104/en_US/airpods-3gen-lightning-charging-03405241B-rci.pdf -O /content/gdrive/MyDrive/data/airpods.pdf"
      ],
      "metadata": {
        "colab": {
          "base_uri": "https://localhost:8080/"
        },
        "id": "Hmel_q0O03L3",
        "outputId": "a565491f-af0b-4b57-bb80-2ab3da78a47a"
      },
      "execution_count": 10,
      "outputs": [
        {
          "output_type": "stream",
          "name": "stdout",
          "text": [
            "--2023-07-26 01:41:55--  https://manuals.info.apple.com/MANUALS/2000/MA2104/en_US/airpods-3gen-lightning-charging-03405241B-rci.pdf\n",
            "Resolving manuals.info.apple.com (manuals.info.apple.com)... 23.45.100.45\n",
            "Connecting to manuals.info.apple.com (manuals.info.apple.com)|23.45.100.45|:443... connected.\n",
            "HTTP request sent, awaiting response... 200 OK\n",
            "Length: 1432122 (1.4M) [application/pdf]\n",
            "Saving to: ‘/content/gdrive/MyDrive/data/airpods.pdf’\n",
            "\n",
            "\r          /content/   0%[                    ]       0  --.-KB/s               \r/content/gdrive/MyD 100%[===================>]   1.37M  --.-KB/s    in 0.08s   \n",
            "\n",
            "2023-07-26 01:41:56 (17.9 MB/s) - ‘/content/gdrive/MyDrive/data/airpods.pdf’ saved [1432122/1432122]\n",
            "\n"
          ]
        }
      ]
    },
    {
      "cell_type": "code",
      "source": [
        "!ls -alt /content/gdrive/MyDrive/data/airpods.pdf"
      ],
      "metadata": {
        "colab": {
          "base_uri": "https://localhost:8080/"
        },
        "id": "YOtMRXkn1oqS",
        "outputId": "a04e7945-13bb-4ec1-aed9-66d68dcca628"
      },
      "execution_count": 55,
      "outputs": [
        {
          "output_type": "stream",
          "name": "stdout",
          "text": [
            "-rw------- 1 root root 1432122 Sep 21  2022 /content/gdrive/MyDrive/data/airpods.pdf\n"
          ]
        }
      ]
    },
    {
      "cell_type": "code",
      "source": [
        "import openai\n",
        "import langchain\n",
        "from langchain.document_loaders import PyMuPDFLoader\n",
        "\n",
        "loader = PyMuPDFLoader('/content/gdrive/MyDrive/data/airpods.pdf')\n",
        "docs = loader.load()"
      ],
      "metadata": {
        "id": "_Cg8s19N1V7V"
      },
      "execution_count": 56,
      "outputs": []
    },
    {
      "cell_type": "markdown",
      "source": [
        "reference: https://python.langchain.com/docs/modules/model_io/models/llms/llm_caching"
      ],
      "metadata": {
        "id": "OklwQaVp8WMz"
      }
    },
    {
      "cell_type": "markdown",
      "source": [
        "In Memory Cache"
      ],
      "metadata": {
        "id": "Vbsa4HBV8cwN"
      }
    },
    {
      "cell_type": "code",
      "source": [
        "from langchain.cache import InMemoryCache\n",
        "\n",
        "langchain.llm_cache = InMemoryCache()"
      ],
      "metadata": {
        "id": "UoG3vhqG8fvb"
      },
      "execution_count": 57,
      "outputs": []
    },
    {
      "cell_type": "code",
      "source": [
        "from langchain.text_splitter import RecursiveCharacterTextSplitter\n",
        "\n",
        "recur_splitter = RecursiveCharacterTextSplitter(chunk_size=100, chunk_overlap=0)\n",
        "split_docs = recur_splitter.split_documents(docs)"
      ],
      "metadata": {
        "id": "MQAZwyM08o10"
      },
      "execution_count": 58,
      "outputs": []
    },
    {
      "cell_type": "code",
      "source": [
        "openai.api_key=os.getenv('OPENAI_API_KEY')"
      ],
      "metadata": {
        "id": "HxfYMWkr8-uk"
      },
      "execution_count": 59,
      "outputs": []
    },
    {
      "cell_type": "code",
      "source": [
        "from langchain.vectorstores import FAISS\n",
        "from langchain.embeddings.openai import OpenAIEmbeddings\n",
        "\n",
        "embeddings = OpenAIEmbeddings()\n",
        "\n",
        "index_root_dir = '/content/gdrive/MyDrive/index/'\n",
        "\n",
        "db_faiss = FAISS.from_documents(split_docs, embeddings)\n",
        "db_faiss.save_local(index_root_dir+'faiss_index_airpods')"
      ],
      "metadata": {
        "id": "QZbs7L6Y82zR"
      },
      "execution_count": 60,
      "outputs": []
    },
    {
      "cell_type": "code",
      "source": [
        "index_faiss = FAISS.load_local(index_root_dir+'faiss_index_airpods', embeddings)\n",
        "retriever = index_faiss.as_retriever(k=1)"
      ],
      "metadata": {
        "id": "7e9ImD_e9ahs"
      },
      "execution_count": 62,
      "outputs": []
    },
    {
      "cell_type": "code",
      "source": [
        "from langchain.chat_models import ChatOpenAI\n",
        "from langchain.chains import ConversationalRetrievalChain\n",
        "\n",
        "\n",
        "llm = ChatOpenAI(temperature=0, model='gpt-3.5-turbo', verbose=False)\n",
        "\n",
        "conversation_chain = ConversationalRetrievalChain.from_llm(\n",
        "                        llm=llm,\n",
        "                        retriever=retriever,\n",
        "                        verbose=False,\n",
        "                    )"
      ],
      "metadata": {
        "id": "uD8L0mtg9ed6"
      },
      "execution_count": 63,
      "outputs": []
    },
    {
      "cell_type": "code",
      "source": [
        "chat_history = []\n",
        "\n",
        "def conversation(question):\n",
        "    input = {'question': question, 'chat_history': chat_history}\n",
        "    result = conversation_chain(input)\n",
        "    chat_history.append((question, result['answer']))\n",
        "    print(\"Question:\\n %s \\n\" % question)\n",
        "    print(\"Answer:\\n %s \\n\" % result['answer'])\n"
      ],
      "metadata": {
        "id": "TISyGqfk-WF0"
      },
      "execution_count": 64,
      "outputs": []
    },
    {
      "cell_type": "code",
      "source": [
        "%%time\n",
        "\n",
        "conversation(\"what is the FCC compliance?\")"
      ],
      "metadata": {
        "colab": {
          "base_uri": "https://localhost:8080/"
        },
        "id": "futWr-hC_4ot",
        "outputId": "684f8a8f-8b14-4e2f-b362-b78ec8c0daee"
      },
      "execution_count": 70,
      "outputs": [
        {
          "output_type": "stream",
          "name": "stdout",
          "text": [
            "Question:\n",
            " what is the FCC compliance? \n",
            "\n",
            "Answer:\n",
            " FCC compliance refers to the adherence of a device to the regulations and standards set by the Federal Communications Commission (FCC) in the United States. It means that the device has been tested and meets the requirements specified by the FCC for electromagnetic interference (EMI) and radio frequency interference (RFI). Compliance ensures that the device operates within acceptable limits and does not interfere with other electronic devices. \n",
            "\n",
            "CPU times: user 124 ms, sys: 7.09 ms, total: 131 ms\n",
            "Wall time: 3.52 s\n"
          ]
        }
      ]
    },
    {
      "cell_type": "code",
      "source": [
        "%%time\n",
        "\n",
        "conversation(\"what is the FCC compliance?\")"
      ],
      "metadata": {
        "colab": {
          "base_uri": "https://localhost:8080/"
        },
        "id": "3htH0w32Al3l",
        "outputId": "51c7e8ea-9d5d-41ff-9e4b-f8360431ab5b"
      },
      "execution_count": 76,
      "outputs": [
        {
          "output_type": "stream",
          "name": "stdout",
          "text": [
            "Question:\n",
            " what is the FCC compliance? \n",
            "\n",
            "Answer:\n",
            " FCC compliance refers to the adherence of a device to the regulations and standards set by the Federal Communications Commission (FCC) in the United States. These regulations are in place to ensure that electronic devices, such as radios, televisions, and other electronic devices, do not cause interference with other devices and operate within acceptable limits. \n",
            "\n",
            "CPU times: user 17.4 ms, sys: 1 ms, total: 18.4 ms\n",
            "Wall time: 878 ms\n"
          ]
        }
      ]
    },
    {
      "cell_type": "code",
      "source": [
        "for (x, y) in list(langchain.llm_cache._cache.keys()):\n",
        "    print(x)\n",
        "    # print()"
      ],
      "metadata": {
        "colab": {
          "base_uri": "https://localhost:8080/"
        },
        "id": "-5LrfgiRAm0M",
        "outputId": "6750a050-ee48-43ac-9c59-1028b0f3982d"
      },
      "execution_count": 77,
      "outputs": [
        {
          "output_type": "stream",
          "name": "stdout",
          "text": [
            "[{\"lc\": 1, \"type\": \"constructor\", \"id\": [\"langchain\", \"schema\", \"messages\", \"SystemMessage\"], \"kwargs\": {\"content\": \"Use the following pieces of context to answer the users question. \\nIf you don't know the answer, just say that you don't know, don't try to make up an answer.\\n----------------\\n\\u00a9 2022 Apple Inc. All rights reserved. Apple, the Apple logo, AirPods, and Lightning are trademarks\\n\\n\\u2022 \\n\\u2022 \\n\\u2022 \\n\\u2022 \\nApple Inc. \\nOne Apple Park Way, MS 911-AHW \\nCupertino, CA 95014 USA\\n\\napple.com/hk/contact\\nISED Canada\\nThis device complies with ISED Canada\\n\\nthe web at apple.com/au/recycling/batteries. \\nIndependent recycling professionals can obtain\", \"additional_kwargs\": {}}}, {\"lc\": 1, \"type\": \"constructor\", \"id\": [\"langchain\", \"schema\", \"messages\", \"HumanMessage\"], \"kwargs\": {\"content\": \"tell me where I an get a free airpods?\", \"additional_kwargs\": {}}}]\n",
            "[{\"lc\": 1, \"type\": \"constructor\", \"id\": [\"langchain\", \"schema\", \"messages\", \"HumanMessage\"], \"kwargs\": {\"content\": \"Given the following conversation and a follow up question, rephrase the follow up question to be a standalone question, in its original language.\\n\\nChat History:\\n\\nHuman: tell me where I an get a free airpods?\\nAssistant: I'm sorry, but I don't have information on where you can get free AirPods.\\nFollow Up Input: tell me where I an get a free airpods?\\nStandalone question:\"}}]\n",
            "[{\"lc\": 1, \"type\": \"constructor\", \"id\": [\"langchain\", \"schema\", \"messages\", \"SystemMessage\"], \"kwargs\": {\"content\": \"Use the following pieces of context to answer the users question. \\nIf you don't know the answer, just say that you don't know, don't try to make up an answer.\\n----------------\\n\\u00a9 2022 Apple Inc. All rights reserved. Apple, the Apple logo, AirPods, and Lightning are trademarks\\n\\nthe web at apple.com/au/recycling/batteries. \\nIndependent recycling professionals can obtain\\n\\nunentgeltlich abgeben. Eine weitere M\\u00f6glichkeit \\nzur R\\u00fcckgabe von Elektroaltger\\u00e4ten ist das Apple\\n\\nother environmental initiatives, visit apple.com/\\nenvironment.\", \"additional_kwargs\": {}}}, {\"lc\": 1, \"type\": \"constructor\", \"id\": [\"langchain\", \"schema\", \"messages\", \"HumanMessage\"], \"kwargs\": {\"content\": \"Where can I get free AirPods?\", \"additional_kwargs\": {}}}]\n",
            "[{\"lc\": 1, \"type\": \"constructor\", \"id\": [\"langchain\", \"schema\", \"messages\", \"HumanMessage\"], \"kwargs\": {\"content\": \"Given the following conversation and a follow up question, rephrase the follow up question to be a standalone question, in its original language.\\n\\nChat History:\\n\\nHuman: tell me where I an get a free airpods?\\nAssistant: I'm sorry, but I don't have information on where you can get free AirPods.\\nHuman: tell me where I an get a free airpods?\\nAssistant: I'm sorry, but I don't have any information about where you can get free AirPods.\\nFollow Up Input: what is the FCC compliance?\\nStandalone question:\"}}]\n",
            "[{\"lc\": 1, \"type\": \"constructor\", \"id\": [\"langchain\", \"schema\", \"messages\", \"SystemMessage\"], \"kwargs\": {\"content\": \"Use the following pieces of context to answer the users question. \\nIf you don't know the answer, just say that you don't know, don't try to make up an answer.\\n----------------\\nRegulatory Compliance Information\\nFCC Compliance\\nThis device complies with part 15 of the FCC\\n\\nradios, televisions, and other electronic devices. \\nThis product was tested for EMC compliance\\n\\noperate the product. \\nThis product has demonstrated EMC compliance\\n\\ndevice, pursuant to part 15 of the FCC Rules. \\nThese limits are designed to provide reasonable\", \"additional_kwargs\": {}}}, {\"lc\": 1, \"type\": \"constructor\", \"id\": [\"langchain\", \"schema\", \"messages\", \"HumanMessage\"], \"kwargs\": {\"content\": \"What does FCC compliance mean?\", \"additional_kwargs\": {}}}]\n",
            "[{\"lc\": 1, \"type\": \"constructor\", \"id\": [\"langchain\", \"schema\", \"messages\", \"HumanMessage\"], \"kwargs\": {\"content\": \"Given the following conversation and a follow up question, rephrase the follow up question to be a standalone question, in its original language.\\n\\nChat History:\\n\\nHuman: tell me where I an get a free airpods?\\nAssistant: I'm sorry, but I don't have information on where you can get free AirPods.\\nHuman: tell me where I an get a free airpods?\\nAssistant: I'm sorry, but I don't have any information about where you can get free AirPods.\\nHuman: what is the FCC compliance?\\nAssistant: FCC compliance refers to the adherence of a device to the regulations and standards set by the Federal Communications Commission (FCC) in the United States. It means that the device has been tested and meets the requirements specified by the FCC for electromagnetic interference (EMI) and radio frequency interference (RFI). Compliance ensures that the device operates within acceptable limits and does not interfere with other electronic devices.\\nFollow Up Input: what is the FCC compliance?\\nStandalone question:\"}}]\n",
            "[{\"lc\": 1, \"type\": \"constructor\", \"id\": [\"langchain\", \"schema\", \"messages\", \"SystemMessage\"], \"kwargs\": {\"content\": \"Use the following pieces of context to answer the users question. \\nIf you don't know the answer, just say that you don't know, don't try to make up an answer.\\n----------------\\nRegulatory Compliance Information\\nFCC Compliance\\nThis device complies with part 15 of the FCC\\n\\nradios, televisions, and other electronic devices. \\nThis product was tested for EMC compliance\\n\\ndevice, pursuant to part 15 of the FCC Rules. \\nThese limits are designed to provide reasonable\\n\\noperate the product. \\nThis product has demonstrated EMC compliance\", \"additional_kwargs\": {}}}, {\"lc\": 1, \"type\": \"constructor\", \"id\": [\"langchain\", \"schema\", \"messages\", \"HumanMessage\"], \"kwargs\": {\"content\": \"What does FCC compliance refer to?\", \"additional_kwargs\": {}}}]\n",
            "[{\"lc\": 1, \"type\": \"constructor\", \"id\": [\"langchain\", \"schema\", \"messages\", \"HumanMessage\"], \"kwargs\": {\"content\": \"Given the following conversation and a follow up question, rephrase the follow up question to be a standalone question, in its original language.\\n\\nChat History:\\n\\nHuman: tell me where I an get a free airpods?\\nAssistant: I'm sorry, but I don't have information on where you can get free AirPods.\\nHuman: tell me where I an get a free airpods?\\nAssistant: I'm sorry, but I don't have any information about where you can get free AirPods.\\nHuman: what is the FCC compliance?\\nAssistant: FCC compliance refers to the adherence of a device to the regulations and standards set by the Federal Communications Commission (FCC) in the United States. It means that the device has been tested and meets the requirements specified by the FCC for electromagnetic interference (EMI) and radio frequency interference (RFI). Compliance ensures that the device operates within acceptable limits and does not interfere with other electronic devices.\\nHuman: what is the FCC compliance?\\nAssistant: FCC compliance refers to the adherence of a device to the regulations and standards set by the Federal Communications Commission (FCC) in the United States. These regulations are in place to ensure that electronic devices, such as radios, televisions, and other electronic devices, do not cause interference with other devices and operate within acceptable limits.\\nFollow Up Input: what is the FCC compliance?\\nStandalone question:\"}}]\n"
          ]
        }
      ]
    },
    {
      "cell_type": "code",
      "source": [
        "# !wget http://nz2.archive.ubuntu.com/ubuntu/pool/main/o/openssl/libssl1.1_1.1.1f-1ubuntu2.19_amd64.deb\n",
        "# !sudo dpkg -i libssl1.1_1.1.1f-1ubuntu2.19_amd64.deb"
      ],
      "metadata": {
        "id": "DTPAeLYXjBLq"
      },
      "execution_count": null,
      "outputs": []
    },
    {
      "cell_type": "code",
      "source": [
        "!curl -fsSL https://packages.redis.io/redis-stack/redis-stack-server-6.2.6-v7.focal.x86_64.tar.gz -o redis-stack-server.tar.gz\n",
        "!tar -xvf  redis-stack-server.tar.gz\n",
        "!pip install redis"
      ],
      "metadata": {
        "id": "WXouVKFAf2Yz"
      },
      "execution_count": null,
      "outputs": []
    },
    {
      "cell_type": "code",
      "source": [
        "! ls -alt ./redis-stack-server-6.2.6-v7/bin/redis-stack-server\n",
        "! ./redis-stack-server-6.2.6-v7/bin/redis-stack-server --daemonize yes"
      ],
      "metadata": {
        "colab": {
          "base_uri": "https://localhost:8080/"
        },
        "id": "PkTUUT1Ff8F4",
        "outputId": "6e1e56e4-2a71-4177-9c7c-0f20112f5fe8"
      },
      "execution_count": 80,
      "outputs": [
        {
          "output_type": "stream",
          "name": "stdout",
          "text": [
            "-rwxr-xr-x 1 1001 123 1864 Apr 24 12:47 ./redis-stack-server-6.2.6-v7/bin/redis-stack-server\n",
            "Starting redis-stack-server, database path ./redis-stack-server-6.2.6-v7/var/db/redis-stack\n"
          ]
        }
      ]
    },
    {
      "cell_type": "code",
      "source": [
        "import redis\n",
        "\n",
        "from langchain.memory.chat_message_histories import RedisChatMessageHistory\n",
        "\n",
        "\n",
        "client = redis.Redis(host='localhost', port=6379)\n",
        "\n",
        "client.ping()\n"
      ],
      "metadata": {
        "id": "RYQt0N7_i5CA",
        "colab": {
          "base_uri": "https://localhost:8080/"
        },
        "outputId": "8e2934ca-9567-4bef-8a31-f82a34d29c22"
      },
      "execution_count": 95,
      "outputs": [
        {
          "output_type": "execute_result",
          "data": {
            "text/plain": [
              "True"
            ]
          },
          "metadata": {},
          "execution_count": 95
        }
      ]
    },
    {
      "cell_type": "code",
      "source": [
        "from redis import Redis\n",
        "from langchain.cache import RedisCache\n",
        "\n",
        "langchain.llm_cache = RedisCache(redis_=client)\n",
        "\n",
        "llm_redis = ChatOpenAI(temperature=0, model='gpt-3.5-turbo', verbose=False)\n",
        "\n",
        "conversation_chain_redis = ConversationalRetrievalChain.from_llm(\n",
        "                        llm=llm_redis,\n",
        "                        retriever=retriever,\n",
        "                        verbose=False,\n",
        "                    )"
      ],
      "metadata": {
        "id": "bwq0eJUhDp3N"
      },
      "execution_count": 96,
      "outputs": []
    },
    {
      "cell_type": "code",
      "source": [
        "chat_history = []\n",
        "\n",
        "def conversation(question):\n",
        "    input = {'question': question, 'chat_history': chat_history}\n",
        "    result = conversation_chain_redis(input)\n",
        "    chat_history.append((question, result['answer']))\n",
        "    print(\"Question:\\n %s \\n\" % question)\n",
        "    print(\"Answer:\\n %s \\n\" % result['answer'])\n"
      ],
      "metadata": {
        "id": "h8sNIxDbFdol"
      },
      "execution_count": 86,
      "outputs": []
    },
    {
      "cell_type": "code",
      "source": [
        "%%time\n",
        "\n",
        "conversation(\"what is the FCC compliance?\")"
      ],
      "metadata": {
        "colab": {
          "base_uri": "https://localhost:8080/"
        },
        "id": "sog0Nes2F5JE",
        "outputId": "7bacb7b3-21bb-45d3-ca9e-de1d1e2107bd"
      },
      "execution_count": 88,
      "outputs": [
        {
          "output_type": "stream",
          "name": "stdout",
          "text": [
            "Question:\n",
            " what is the FCC compliance? \n",
            "\n",
            "Answer:\n",
            " FCC compliance refers to the adherence of a device to the regulations and standards set by the Federal Communications Commission (FCC) in the United States. These regulations are in place to ensure that electronic devices, such as radios, televisions, and other electronic devices, meet certain requirements for electromagnetic compatibility (EMC) and wireless compliance. Compliance with FCC regulations is necessary for the sale and use of electronic devices in the United States. \n",
            "\n",
            "CPU times: user 124 ms, sys: 7.97 ms, total: 132 ms\n",
            "Wall time: 3.63 s\n"
          ]
        },
        {
          "output_type": "stream",
          "name": "stderr",
          "text": [
            "/usr/local/lib/python3.10/dist-packages/langchain/cache.py:237: UserWarning: NOTE: Generation has not been cached. RedisCache does not support caching ChatModel outputs.\n",
            "  warnings.warn(\n"
          ]
        }
      ]
    },
    {
      "cell_type": "markdown",
      "source": [
        "*Generation has not been cached. RedisCache does not support caching ChatModel outputs.*"
      ],
      "metadata": {
        "id": "alc0yAOjG_lM"
      }
    },
    {
      "cell_type": "code",
      "source": [
        "client.keys()"
      ],
      "metadata": {
        "colab": {
          "base_uri": "https://localhost:8080/"
        },
        "id": "GKbOytuRGAy9",
        "outputId": "ea4b44be-1aae-4af4-da05-d665da907449"
      },
      "execution_count": 97,
      "outputs": [
        {
          "output_type": "execute_result",
          "data": {
            "text/plain": [
              "[b'727d1759db6f508f8745e566191729d1', b'b4b5e406a5cb4d80fc9a35facd0f16e5']"
            ]
          },
          "metadata": {},
          "execution_count": 97
        }
      ]
    },
    {
      "cell_type": "code",
      "source": [
        "from langchain.llms import OpenAI\n",
        "\n",
        "llm_redis = OpenAI(temperature=0, verbose=False)\n",
        "\n",
        "conversation_chain_redis = ConversationalRetrievalChain.from_llm(\n",
        "                        llm=llm_redis,\n",
        "                        retriever=retriever,\n",
        "                        verbose=False,\n",
        "                    )"
      ],
      "metadata": {
        "id": "0Jo_5U9GGWMw"
      },
      "execution_count": 92,
      "outputs": []
    },
    {
      "cell_type": "code",
      "source": [
        "%%time\n",
        "\n",
        "conversation(\"what is the FCC compliance?\")"
      ],
      "metadata": {
        "colab": {
          "base_uri": "https://localhost:8080/"
        },
        "id": "6As2wgSYGznV",
        "outputId": "63740440-e41b-492e-89f3-7a235bb0a64a"
      },
      "execution_count": 98,
      "outputs": [
        {
          "output_type": "stream",
          "name": "stdout",
          "text": [
            "Question:\n",
            " what is the FCC compliance? \n",
            "\n",
            "Answer:\n",
            " The specific regulations and standards set by the FCC for electromagnetic compatibility (EMC) and wireless compliance are not mentioned in the provided context. \n",
            "\n",
            "CPU times: user 38 ms, sys: 5.31 ms, total: 43.3 ms\n",
            "Wall time: 2.89 s\n"
          ]
        }
      ]
    },
    {
      "cell_type": "code",
      "source": [
        "client.keys()"
      ],
      "metadata": {
        "colab": {
          "base_uri": "https://localhost:8080/"
        },
        "id": "Sv4DugugG5XR",
        "outputId": "9d4eb135-27dc-4d8e-e2e6-968787586d88"
      },
      "execution_count": 99,
      "outputs": [
        {
          "output_type": "execute_result",
          "data": {
            "text/plain": [
              "[b'727d1759db6f508f8745e566191729d1', b'b4b5e406a5cb4d80fc9a35facd0f16e5']"
            ]
          },
          "metadata": {},
          "execution_count": 99
        }
      ]
    },
    {
      "cell_type": "markdown",
      "source": [
        "Semantic cache\n",
        "- https://python.langchain.com/docs/integrations/llms/llm_caching"
      ],
      "metadata": {
        "id": "qHaTBivzDCdi"
      }
    },
    {
      "cell_type": "code",
      "source": [
        "from langchain.cache import RedisSemanticCache\n",
        "\n",
        "langchain.llm_cache = RedisSemanticCache(\n",
        "    redis_url='redis://localhost:6379', embedding=OpenAIEmbeddings(), score_threshold=0.1) #default 0.2\n",
        "\n",
        "llm_redis_semantic = OpenAI(temperature=0, verbose=False)\n",
        "\n",
        "conversation_chain_redis_semantic = ConversationalRetrievalChain.from_llm(\n",
        "                        llm=llm_redis_semantic,\n",
        "                        retriever=retriever,\n",
        "                        verbose=False,\n",
        "                    )"
      ],
      "metadata": {
        "id": "QEVp9ZZUHeCq"
      },
      "execution_count": 114,
      "outputs": []
    },
    {
      "cell_type": "code",
      "source": [
        "chat_history = []\n",
        "\n",
        "def conversation(question):\n",
        "    input = {'question': question, 'chat_history': chat_history}\n",
        "    result = conversation_chain_redis_semantic(input)\n",
        "    chat_history.append((question, result['answer']))\n",
        "    print(\"Question:\\n %s \\n\" % question)\n",
        "    print(\"Answer:\\n %s \\n\" % result['answer'])\n"
      ],
      "metadata": {
        "id": "23WxSlYiIiIP"
      },
      "execution_count": 115,
      "outputs": []
    },
    {
      "cell_type": "code",
      "source": [
        "%%time\n",
        "\n",
        "conversation(\"what is the FCC compliance?\")"
      ],
      "metadata": {
        "colab": {
          "base_uri": "https://localhost:8080/"
        },
        "id": "a-P1c9q7IYst",
        "outputId": "e29f4a17-1c32-4e44-fef0-d4aff881c4d4"
      },
      "execution_count": 116,
      "outputs": [
        {
          "output_type": "stream",
          "name": "stdout",
          "text": [
            "Question:\n",
            " what is the FCC compliance? \n",
            "\n",
            "Answer:\n",
            "  The FCC compliance is that this device complies with part 15 of the FCC rules for radios, televisions, and other electronic devices, and has been tested for EMC compliance. \n",
            "\n",
            "CPU times: user 109 ms, sys: 4.77 ms, total: 114 ms\n",
            "Wall time: 744 ms\n"
          ]
        }
      ]
    },
    {
      "cell_type": "code",
      "source": [
        "langchain.llm_cache._cache_dict"
      ],
      "metadata": {
        "colab": {
          "base_uri": "https://localhost:8080/"
        },
        "id": "ClCPTYErJ3RQ",
        "outputId": "7d3361ba-b012-421e-bbf3-48624cabe467"
      },
      "execution_count": 117,
      "outputs": [
        {
          "output_type": "execute_result",
          "data": {
            "text/plain": [
              "{'cache:0e4d63bf605cd5f4329128fcbe38762d': <langchain.vectorstores.redis.Redis at 0x7aff7bc7e920>}"
            ]
          },
          "metadata": {},
          "execution_count": 117
        }
      ]
    },
    {
      "cell_type": "code",
      "source": [
        "langchain.llm_cache._cache_dict['cache:0e4d63bf605cd5f4329128fcbe38762d'].similarity_search_with_score(query='what is the FCC compliance')"
      ],
      "metadata": {
        "colab": {
          "base_uri": "https://localhost:8080/"
        },
        "id": "HFWcSARTKf-h",
        "outputId": "e2f423d2-eb0b-4773-e3b0-14fc0dfee50e"
      },
      "execution_count": 124,
      "outputs": [
        {
          "output_type": "execute_result",
          "data": {
            "text/plain": [
              "[(Document(page_content=\"Use the following pieces of context to answer the question at the end. If you don't know the answer, just say that you don't know, don't try to make up an answer.\\n\\nRegulatory Compliance Information\\nFCC Compliance\\nThis device complies with part 15 of the FCC\\n\\nradios, televisions, and other electronic devices. \\nThis product was tested for EMC compliance\\n\\ndevice, pursuant to part 15 of the FCC Rules. \\nThese limits are designed to provide reasonable\\n\\nelectromagnetic compatibility (EMC) and \\nwireless compliance and negate your authority to\\n\\nQuestion: what is the FCC compliance?\\nHelpful Answer:\", metadata={'llm_string': \"[('_type', 'openai'), ('frequency_penalty', 0), ('logit_bias', {}), ('max_tokens', 256), ('model_name', 'text-davinci-003'), ('n', 1), ('presence_penalty', 0), ('request_timeout', None), ('stop', None), ('temperature', 0.0), ('top_p', 1)]\", 'prompt': \"Use the following pieces of context to answer the question at the end. If you don't know the answer, just say that you don't know, don't try to make up an answer.\\n\\nRegulatory Compliance Information\\nFCC Compliance\\nThis device complies with part 15 of the FCC\\n\\nradios, televisions, and other electronic devices. \\nThis product was tested for EMC compliance\\n\\ndevice, pursuant to part 15 of the FCC Rules. \\nThese limits are designed to provide reasonable\\n\\nelectromagnetic compatibility (EMC) and \\nwireless compliance and negate your authority to\\n\\nQuestion: what is the FCC compliance?\\nHelpful Answer:\", 'return_val': [' The FCC compliance is that this device complies with part 15 of the FCC rules for radios, televisions, and other electronic devices, and has been tested for EMC compliance.'], 'id': 'doc:cache:0e4d63bf605cd5f4329128fcbe38762d:bcf7737bc8764e779426a28d9b4a1644'}),\n",
              "  0.139199256897)]"
            ]
          },
          "metadata": {},
          "execution_count": 124
        }
      ]
    },
    {
      "cell_type": "code",
      "source": [
        "client.keys()"
      ],
      "metadata": {
        "colab": {
          "base_uri": "https://localhost:8080/"
        },
        "id": "YUoQ8AWLJgTc",
        "outputId": "874df225-edcb-46cb-bd5b-bc83013b0ec7"
      },
      "execution_count": 109,
      "outputs": [
        {
          "output_type": "execute_result",
          "data": {
            "text/plain": [
              "[b'727d1759db6f508f8745e566191729d1',\n",
              " b'b4b5e406a5cb4d80fc9a35facd0f16e5',\n",
              " b'doc:cache:0e4d63bf605cd5f4329128fcbe38762d:bcf7737bc8764e779426a28d9b4a1644']"
            ]
          },
          "metadata": {},
          "execution_count": 109
        }
      ]
    },
    {
      "cell_type": "markdown",
      "source": [
        "GPT cache supports Exact match and similar match"
      ],
      "metadata": {
        "id": "6IHFXyDFMFil"
      }
    },
    {
      "cell_type": "code",
      "source": [
        "!pip install gptcache -Uqq"
      ],
      "metadata": {
        "colab": {
          "base_uri": "https://localhost:8080/"
        },
        "id": "ttTu6-OSMLVG",
        "outputId": "abd7fd30-81ec-44c8-fc92-556e84fa1d4f"
      },
      "execution_count": 125,
      "outputs": [
        {
          "output_type": "stream",
          "name": "stdout",
          "text": [
            "\u001b[?25l     \u001b[90m━━━━━━━━━━━━━━━━━━━━━━━━━━━━━━━━━━━━━━━━\u001b[0m \u001b[32m0.0/122.0 kB\u001b[0m \u001b[31m?\u001b[0m eta \u001b[36m-:--:--\u001b[0m\r\u001b[2K     \u001b[91m━━━━━━━━━━━━━━━━━━━━━━━━━━━━━━━━━━━━\u001b[0m\u001b[90m╺\u001b[0m\u001b[90m━━\u001b[0m \u001b[32m112.6/122.0 kB\u001b[0m \u001b[31m3.5 MB/s\u001b[0m eta \u001b[36m0:00:01\u001b[0m\r\u001b[2K     \u001b[90m━━━━━━━━━━━━━━━━━━━━━━━━━━━━━━━━━━━━━━━\u001b[0m \u001b[32m122.0/122.0 kB\u001b[0m \u001b[31m2.7 MB/s\u001b[0m eta \u001b[36m0:00:00\u001b[0m\n",
            "\u001b[?25h"
          ]
        }
      ]
    },
    {
      "cell_type": "code",
      "source": [
        "from gptcache import Cache\n",
        "from gptcache.manager.factory import manager_factory\n",
        "from gptcache.processor.pre import get_prompt\n",
        "from langchain.cache import GPTCache\n",
        "\n",
        "\n",
        "import hashlib\n",
        "\n",
        "def init_gptcache(cache_obj: Cache, llm: str):\n",
        "    hash_llm = hashlib.sha256(llm.encode()).hexdigest()\n",
        "    cache_obj.init(\n",
        "        pre_embedding_func = get_prompt,\n",
        "        data_manager = manager_factory(manager=\"map\", data_dir=f\"map_cache_{hash_llm}\")\n",
        "    )\n",
        "\n",
        "langchain.llm_cache = GPTCache(init_gptcache)"
      ],
      "metadata": {
        "id": "P6-6EnnRM6Zd"
      },
      "execution_count": 130,
      "outputs": []
    },
    {
      "cell_type": "code",
      "source": [
        "llm = OpenAI(temperature=0, verbose=False)"
      ],
      "metadata": {
        "id": "A8Aw5Q7aO766"
      },
      "execution_count": 131,
      "outputs": []
    },
    {
      "cell_type": "code",
      "source": [
        "%%time\n",
        "\n",
        "llm(\"what time is it?\")"
      ],
      "metadata": {
        "colab": {
          "base_uri": "https://localhost:8080/",
          "height": 71
        },
        "id": "EVsD0i6gPCvA",
        "outputId": "947c0b5b-41d3-4f69-95c3-1c288daff508"
      },
      "execution_count": 134,
      "outputs": [
        {
          "output_type": "stream",
          "name": "stdout",
          "text": [
            "CPU times: user 13.7 ms, sys: 967 µs, total: 14.6 ms\n",
            "Wall time: 980 ms\n"
          ]
        },
        {
          "output_type": "execute_result",
          "data": {
            "text/plain": [
              "'\\n\\nIt is currently 11:45 AM.'"
            ],
            "application/vnd.google.colaboratory.intrinsic+json": {
              "type": "string"
            }
          },
          "metadata": {},
          "execution_count": 134
        }
      ]
    },
    {
      "cell_type": "code",
      "source": [
        "from gptcache import Cache\n",
        "from gptcache.adapter.api import init_similar_cache\n",
        "from langchain.cache import GPTCache\n",
        "\n",
        "def init_gptcache(cache_obj: Cache, llm: str):\n",
        "    hash_llm = hashlib.sha256(llm.encode()).hexdigest()\n",
        "    #faiss and sqlite, SearchDistanceEvaluation\n",
        "    init_similar_cache(cache_obj=cache_obj, data_dir=f\"map_cache_{hash_llm}\")\n",
        "\n",
        "langchain.llm_cache = GPTCache(init_gptcache)"
      ],
      "metadata": {
        "id": "UD7AuqJ4PVad"
      },
      "execution_count": 138,
      "outputs": []
    },
    {
      "cell_type": "code",
      "source": [
        "%%time\n",
        "\n",
        "llm(\"what time is it?\")"
      ],
      "metadata": {
        "colab": {
          "base_uri": "https://localhost:8080/",
          "height": 71
        },
        "id": "-rshpxFaQ2dU",
        "outputId": "06250c2b-a5c7-4847-db49-41c039d4aaf3"
      },
      "execution_count": 142,
      "outputs": [
        {
          "output_type": "stream",
          "name": "stdout",
          "text": [
            "CPU times: user 863 ms, sys: 0 ns, total: 863 ms\n",
            "Wall time: 876 ms\n"
          ]
        },
        {
          "output_type": "execute_result",
          "data": {
            "text/plain": [
              "'\\n\\nIt is currently 11:45 AM.'"
            ],
            "application/vnd.google.colaboratory.intrinsic+json": {
              "type": "string"
            }
          },
          "metadata": {},
          "execution_count": 142
        }
      ]
    }
  ]
}