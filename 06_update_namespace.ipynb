{
  "nbformat": 4,
  "nbformat_minor": 0,
  "metadata": {
    "colab": {
      "provenance": [],
      "mount_file_id": "1cda_6j_UwpXB2i68ELhosWo3pkTLq6cQ",
      "authorship_tag": "ABX9TyPgh1VwbuxSwxj+AINO6EW3",
      "include_colab_link": true
    },
    "kernelspec": {
      "name": "python3",
      "display_name": "Python 3"
    },
    "language_info": {
      "name": "python"
    }
  },
  "cells": [
    {
      "cell_type": "markdown",
      "metadata": {
        "id": "view-in-github",
        "colab_type": "text"
      },
      "source": [
        "<a href=\"https://colab.research.google.com/github/acl-jianghao/Langchain-demos/blob/main/06_update_namespace.ipynb\" target=\"_parent\"><img src=\"https://colab.research.google.com/assets/colab-badge.svg\" alt=\"Open In Colab\"/></a>"
      ]
    },
    {
      "cell_type": "markdown",
      "source": [
        "Pinecone namespace"
      ],
      "metadata": {
        "id": "DLTY1ZrSRi1e"
      }
    },
    {
      "cell_type": "markdown",
      "source": [
        "delete data by ids\n",
        "```\n",
        "curl -X DELETE \\\n",
        "    -H 'Api-Key: xxxxxx' \\\n",
        "    'https://conversation-pdf-c5e5a4d.svc.us-west4-gcp-free.pinecone.io/vectors/delete?ids='\n",
        "```"
      ],
      "metadata": {
        "id": "xgXskLAJTM7H"
      }
    },
    {
      "cell_type": "markdown",
      "source": [
        "delete all\n",
        "\n",
        "```\n",
        "curl -X DELETE \\\n",
        "    -H 'Api-Key: xxxxxx' \\\n",
        "    'https://conversation-pdf-c5e5a4d.svc.us-west4-gcp-free.pinecone.io/vectors/delete?deleteAll=true'\n",
        "```\n",
        "\n"
      ],
      "metadata": {
        "id": "OWdLCnhFToJ7"
      }
    },
    {
      "cell_type": "markdown",
      "source": [
        "delete namespace\n",
        "\n",
        "```\n",
        "curl -X DELETE \\\n",
        "    -H 'Api-Key: xxxxxx' \\\n",
        "    'https://conversation-pdf-c5e5a4d.svc.us-west4-gcp-free.pinecone.io/vectors/delete?deleteAll=true&namespace=version_xx'\n",
        "```\n",
        "\n",
        "index upset and spacify namespace\n",
        "\n",
        "https://docs.pinecone.io/docs/namespaces#creating-a-namespace"
      ],
      "metadata": {
        "id": "ivqHJPXwT6Gc"
      }
    },
    {
      "cell_type": "code",
      "source": [
        "# Todo"
      ],
      "metadata": {
        "id": "fbhYaOIJWf-v"
      },
      "execution_count": null,
      "outputs": []
    }
  ]
}