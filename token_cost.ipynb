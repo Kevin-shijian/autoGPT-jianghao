{
  "nbformat": 4,
  "nbformat_minor": 0,
  "metadata": {
    "colab": {
      "provenance": [],
      "authorship_tag": "ABX9TyO3iZsBF49rBrDOpFdFZvet",
      "include_colab_link": true
    },
    "kernelspec": {
      "name": "python3",
      "display_name": "Python 3"
    },
    "language_info": {
      "name": "python"
    }
  },
  "cells": [
    {
      "cell_type": "markdown",
      "metadata": {
        "id": "view-in-github",
        "colab_type": "text"
      },
      "source": [
        "<a href=\"https://colab.research.google.com/github/acl-jianghao/Langchain-Scripts/blob/main/token_cost.ipynb\" target=\"_parent\"><img src=\"https://colab.research.google.com/assets/colab-badge.svg\" alt=\"Open In Colab\"/></a>"
      ]
    },
    {
      "cell_type": "markdown",
      "source": [
        "- Costs call back"
      ],
      "metadata": {
        "id": "KFRAOF9F-XHh"
      }
    },
    {
      "cell_type": "code",
      "source": [
        "%pip install openai -qU\n",
        "%pip install langchain -qU\n",
        "%pip install tiktoken -qU\n",
        "%pip install colab-env -qU\n",
        "%pip install unstructured -qU"
      ],
      "metadata": {
        "id": "5RHfsW6S-svO"
      },
      "execution_count": null,
      "outputs": []
    },
    {
      "cell_type": "code",
      "source": [
        "import os\n",
        "import colab_env"
      ],
      "metadata": {
        "colab": {
          "base_uri": "https://localhost:8080/"
        },
        "id": "0yM3_ORd-viL",
        "outputId": "3b839263-81c0-4523-e91d-1f04595e62fc"
      },
      "execution_count": null,
      "outputs": [
        {
          "output_type": "stream",
          "name": "stdout",
          "text": [
            "Mounted at /content/gdrive\n"
          ]
        }
      ]
    },
    {
      "cell_type": "code",
      "source": [
        "import openai\n",
        "from langchain.document_loaders import OnlinePDFLoader"
      ],
      "metadata": {
        "id": "x_ZFaWc5tnH2"
      },
      "execution_count": 3,
      "outputs": []
    },
    {
      "cell_type": "code",
      "source": [
        "#online document\n",
        "\n",
        "loader = OnlinePDFLoader('https://arxiv.org/pdf/2307.11278',)\n",
        "docs = loader.load()"
      ],
      "metadata": {
        "colab": {
          "base_uri": "https://localhost:8080/"
        },
        "id": "Q2q5VPSvt8ti",
        "outputId": "51dbcf7a-dab3-4013-f1b7-24254737cf54"
      },
      "execution_count": 6,
      "outputs": [
        {
          "output_type": "stream",
          "name": "stderr",
          "text": [
            "[nltk_data] Downloading package punkt to /root/nltk_data...\n",
            "[nltk_data]   Unzipping tokenizers/punkt.zip.\n",
            "[nltk_data] Downloading package averaged_perceptron_tagger to\n",
            "[nltk_data]     /root/nltk_data...\n",
            "[nltk_data]   Unzipping taggers/averaged_perceptron_tagger.zip.\n"
          ]
        }
      ]
    },
    {
      "cell_type": "code",
      "source": [
        "from langchain.text_splitter import RecursiveCharacterTextSplitter\n",
        "\n",
        "text_splitter = RecursiveCharacterTextSplitter(chunk_size=1000, chunk_overlap=0)\n",
        "split_docs = text_splitter.split_documents(docs)"
      ],
      "metadata": {
        "id": "WcAVJosvpXFN"
      },
      "execution_count": 7,
      "outputs": []
    },
    {
      "cell_type": "code",
      "source": [
        "from langchain.llms import OpenAI\n",
        "from langchain.chains.summarize import load_summarize_chain\n",
        "\n",
        "#openai completion api"
      ],
      "metadata": {
        "id": "uX0VBl4aoOyz"
      },
      "execution_count": 8,
      "outputs": []
    },
    {
      "cell_type": "code",
      "source": [
        "openai.api_key=os.getenv('OPENAI_API_KEY')"
      ],
      "metadata": {
        "id": "AvGTTisDqvtn"
      },
      "execution_count": 9,
      "outputs": []
    },
    {
      "cell_type": "code",
      "source": [
        "llm = OpenAI(temperature=0, model_name='text-davinci-003')\n",
        "chain = load_summarize_chain(llm, chain_type=\"stuff\", verbose=False)"
      ],
      "metadata": {
        "id": "S_VvBdyWoc2s"
      },
      "execution_count": 49,
      "outputs": []
    },
    {
      "cell_type": "markdown",
      "source": [
        "refer to: https://python.langchain.com/docs/modules/model_io/models/llms/token_usage_tracking\n",
        "- https://openai.com/pricing"
      ],
      "metadata": {
        "id": "6fYRu6vgK0b6"
      }
    },
    {
      "cell_type": "code",
      "source": [
        "from langchain.callbacks import get_openai_callback\n",
        "\n",
        "def track_tokens_usage(chain, input):\n",
        "    with get_openai_callback() as cb:\n",
        "        result = chain.run(input_documents=input)\n",
        "        print(cb)\n",
        "        print(\"\\n\")\n",
        "    return result"
      ],
      "metadata": {
        "id": "bd4amf_5QuCS"
      },
      "execution_count": 50,
      "outputs": []
    },
    {
      "cell_type": "code",
      "source": [
        "track_tokens_usage(chain, split_docs[:1])"
      ],
      "metadata": {
        "colab": {
          "base_uri": "https://localhost:8080/",
          "height": 214
        },
        "id": "vv4MXvjvKWAm",
        "outputId": "ec13c554-537a-4577-f9fc-96464614b610"
      },
      "execution_count": 51,
      "outputs": [
        {
          "output_type": "stream",
          "name": "stdout",
          "text": [
            "Tokens Used: 199\n",
            "\tPrompt Tokens: 101\n",
            "\tCompletion Tokens: 98\n",
            "Successful Requests: 1\n",
            "Total Cost (USD): $0.00398\n",
            "\n",
            "\n"
          ]
        },
        {
          "output_type": "execute_result",
          "data": {
            "text/plain": [
              "' This paper presents a novel approach to open-domain question answering, called Generator-Retriever-Generator (GRG). GRG combines a generator and a retriever to generate answers to open-domain questions. The generator produces a set of candidate answers, which are then filtered by the retriever. The filtered answers are then re-ranked by the generator. The authors evaluate the GRG approach on two open-domain QA datasets and show that it outperforms existing methods.'"
            ],
            "application/vnd.google.colaboratory.intrinsic+json": {
              "type": "string"
            }
          },
          "metadata": {},
          "execution_count": 51
        }
      ]
    },
    {
      "cell_type": "code",
      "source": [
        "from langchain.chat_models import ChatOpenAI\n",
        "from langchain.chains.summarize import load_summarize_chain\n",
        "\n",
        "# llm = OpenAI(temperature=0, model_name='text-davinci-003')\n",
        "llm = ChatOpenAI(temperature=0, model_name='gpt-3.5-turbo', verbose=False)\n",
        "chain = load_summarize_chain(llm, chain_type=\"stuff\")"
      ],
      "metadata": {
        "id": "s0lXy9wUOFzy"
      },
      "execution_count": 44,
      "outputs": []
    },
    {
      "cell_type": "code",
      "source": [
        "track_tokens_usage(chain, split_docs[:1])"
      ],
      "metadata": {
        "colab": {
          "base_uri": "https://localhost:8080/",
          "height": 178
        },
        "id": "RiOTXIpVO42C",
        "outputId": "28cf9fdf-aca8-43f0-83a1-e990182bc8c3"
      },
      "execution_count": 45,
      "outputs": [
        {
          "output_type": "stream",
          "name": "stdout",
          "text": [
            "Tokens Used: 125\n",
            "\tPrompt Tokens: 86\n",
            "\tCompletion Tokens: 39\n",
            "Successful Requests: 1\n",
            "Total Cost (USD): $0.000207\n",
            "\n",
            "\n"
          ]
        },
        {
          "output_type": "execute_result",
          "data": {
            "text/plain": [
              "'The paper proposes a new approach called Generator-Retriever-Generator for open-domain question answering. The approach combines the strengths of both generative and retrieval-based models to improve the accuracy of answers.'"
            ],
            "application/vnd.google.colaboratory.intrinsic+json": {
              "type": "string"
            }
          },
          "metadata": {},
          "execution_count": 45
        }
      ]
    }
  ]
}